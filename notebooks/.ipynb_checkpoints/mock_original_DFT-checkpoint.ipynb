{
 "cells": [
  {
   "cell_type": "code",
   "execution_count": 61,
   "id": "cd00c51a-a67f-433c-9265-39579ad0f8ef",
   "metadata": {},
   "outputs": [],
   "source": [
    "import numpy as np"
   ]
  },
  {
   "cell_type": "code",
   "execution_count": 62,
   "id": "5f3054cd-086b-4607-9a06-afd4f446c4e5",
   "metadata": {},
   "outputs": [],
   "source": [
    "def V(e_conf_dft, modifier, e_ref_dft, E_O, N_O, E_ref_EAM, E_conf_EAM):\n",
    "    v = e_conf_dft - modifier*e_ref_dft - (E_O* N_O)  -(modifier*E_ref_EAM - E_conf_EAM)\n",
    "    return v"
   ]
  },
  {
   "cell_type": "code",
   "execution_count": 63,
   "id": "fa00d83d-7020-4a0d-93b2-5417537dc870",
   "metadata": {},
   "outputs": [],
   "source": [
    "# NiN-1\n",
    "val = V(-1363.5232175000001, 1, -1355.3297950000001, -0.12093000000000000, 1, -1136.4739027700000, -1136.4739027700000)\n",
    "ref_val = -8.0724924999999530\n",
    "np.testing.assert_allclose(val, ref_val)"
   ]
  },
  {
   "cell_type": "code",
   "execution_count": 64,
   "id": "d1a9a564-e980-4b42-9cd9-30e3c9728d6e",
   "metadata": {},
   "outputs": [],
   "source": [
    "# NiN-2 \n",
    "val = V(-1363.9281481000000, 1 , -1355.3297950000001, -0.12093000000000000, 1, -1136.4739027700000, -1136.1908700500001)\n",
    "ref_val = -8.1943903799999589\n",
    "np.testing.assert_allclose(val, ref_val)"
   ]
  },
  {
   "cell_type": "code",
   "execution_count": 65,
   "id": "7756cb7d-2a3c-42d0-baef-fd54d8422c20",
   "metadata": {},
   "outputs": [],
   "source": [
    "# N2 \n",
    "val = V(-16.488954400000001, 1, 0, -0.12093000000000000, 2, 0,0 )\n",
    "ref_val = -16.247094400000002\n",
    "np.testing.assert_allclose(val, ref_val)"
   ]
  },
  {
   "cell_type": "code",
   "execution_count": 66,
   "id": "765e2c24-9d0b-492d-a569-cd3b5cdf6530",
   "metadata": {},
   "outputs": [],
   "source": [
    "# N4 \n",
    "val = V(-20.387006700000001, 1, 0, -0.12093000000000000, 4, 0, 0)\n",
    "ref_val = -19.903286699999999\n",
    "np.testing.assert_allclose(val, ref_val)"
   ]
  },
  {
   "cell_type": "code",
   "execution_count": 67,
   "id": "1dbb55b8-ebe5-4067-9c9e-5f149ebbbdfb",
   "metadata": {},
   "outputs": [],
   "source": [
    "# Slab Al +N  1\n",
    "val = V(-927.01792709999995, 1, -919.29421019999995, -0.12093000000000000, 1, -818.85220710500005, -818.85220710500005)\n",
    "ref_val = -7.6027868999999555\n",
    "np.testing.assert_allclose(val, ref_val)"
   ]
  },
  {
   "cell_type": "code",
   "execution_count": 68,
   "id": "129795b5-e058-4e9a-9479-6163acd0ceb3",
   "metadata": {},
   "outputs": [],
   "source": [
    "# Slab Ni + N 1\n",
    "val = V(-1294.0995544000000, 1, -1288.1861346999999, -0.12093000000000000, 1, -1076.8027189400000, -1076.8027189400000)\n",
    "ref_val = -5.7924897000000328\n",
    "np.testing.assert_allclose(val, ref_val)"
   ]
  },
  {
   "cell_type": "code",
   "execution_count": 69,
   "id": "a61cc8ac-8936-4a5d-ad3d-71a69d644610",
   "metadata": {},
   "outputs": [],
   "source": [
    "# Slab AlN2 -1\n",
    "val = V(-928.41045220000001, 1, -919.29421019999995, -0.12093000000000000, 2, -818.85220710500005,-818.71002627400003)\n",
    "ref_val = -8.7322011690000636\n",
    "np.testing.assert_allclose(val, ref_val)"
   ]
  },
  {
   "cell_type": "code",
   "execution_count": 70,
   "id": "f276b25b-07c5-4c91-b973-1a6926756319",
   "metadata": {},
   "outputs": [],
   "source": [
    "# AlN\n",
    "mod = 2/256\n",
    "val = V(-29.794769899999999, 2/256,  -961.02962449999995, -0.12093000000000000, 2, -860.15985318399999, -6.1171687049500001)\n",
    "ref_val = -21.442035810543750\n",
    "np.testing.assert_allclose(val, ref_val)"
   ]
  },
  {
   "cell_type": "code",
   "execution_count": null,
   "id": "62f037b2-a3c5-4dce-9fa2-62c0185705f1",
   "metadata": {},
   "outputs": [],
   "source": []
  },
  {
   "cell_type": "code",
   "execution_count": null,
   "id": "56f7ff7a-d3bf-4a4d-84cd-dc1885426ec6",
   "metadata": {},
   "outputs": [],
   "source": []
  }
 ],
 "metadata": {
  "kernelspec": {
   "display_name": "Python 3 (ipykernel)",
   "language": "python",
   "name": "python3"
  },
  "language_info": {
   "codemirror_mode": {
    "name": "ipython",
    "version": 3
   },
   "file_extension": ".py",
   "mimetype": "text/x-python",
   "name": "python",
   "nbconvert_exporter": "python",
   "pygments_lexer": "ipython3",
   "version": "3.9.12"
  }
 },
 "nbformat": 4,
 "nbformat_minor": 5
}
